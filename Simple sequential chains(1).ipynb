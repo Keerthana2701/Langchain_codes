{
 "cells": [
  {
   "cell_type": "code",
   "execution_count": 8,
   "id": "460ac23d",
   "metadata": {},
   "outputs": [],
   "source": [
    "from langchain import OpenAI,LLMChain,PromptTemplate\n",
    "from langchain.chains import SimpleSequentialChain"
   ]
  },
  {
   "cell_type": "code",
   "execution_count": 9,
   "id": "68009bb1",
   "metadata": {},
   "outputs": [],
   "source": [
    "import os\n",
    "os.environ[\"OPENAI_API_KEY\"] = \"--------------\"  "
   ]
  },
  {
   "cell_type": "code",
   "execution_count": 10,
   "id": "fddea295",
   "metadata": {},
   "outputs": [],
   "source": [
    "llm=OpenAI(temperature=0.2)\n",
    "template=\"what is a good name of a company that produces {product}?\"\n",
    "first_prompt=PromptTemplate.from_template(template)\n",
    "first_chain=LLMChain(llm=llm,prompt=first_prompt)"
   ]
  },
  {
   "cell_type": "code",
   "execution_count": 12,
   "id": "6b0fb249",
   "metadata": {},
   "outputs": [
    {
     "name": "stderr",
     "output_type": "stream",
     "text": [
      "C:\\Users\\kpuni\\Anaconda3\\lib\\site-packages\\langchain_core\\_api\\deprecation.py:117: LangChainDeprecationWarning: The function `run` was deprecated in LangChain 0.1.0 and will be removed in 0.2.0. Use invoke instead.\n",
      "  warn_deprecated(\n"
     ]
    },
    {
     "name": "stdout",
     "output_type": "stream",
     "text": [
      "\n",
      "\n",
      "\"Velocity Motors\"\n"
     ]
    }
   ],
   "source": [
    "print(first_chain.run(\"car\"))"
   ]
  },
  {
   "cell_type": "code",
   "execution_count": 13,
   "id": "4e61b7b4",
   "metadata": {},
   "outputs": [],
   "source": [
    "second_template=\"give a catchy phrase for the company {companyname}?\"\n",
    "second_prompt=PromptTemplate.from_template(second_template)\n",
    "second_chain=LLMChain(llm=llm,prompt=second_prompt)"
   ]
  },
  {
   "cell_type": "code",
   "execution_count": null,
   "id": "3a4d3f46",
   "metadata": {},
   "outputs": [],
   "source": []
  },
  {
   "cell_type": "code",
   "execution_count": 14,
   "id": "a3910477",
   "metadata": {},
   "outputs": [],
   "source": [
    "overall_chain=SimpleSequentialChain(chains=[first_chain,second_chain],verbose=True)"
   ]
  },
  {
   "cell_type": "code",
   "execution_count": 16,
   "id": "dabda77a",
   "metadata": {},
   "outputs": [
    {
     "name": "stdout",
     "output_type": "stream",
     "text": [
      "\n",
      "\n",
      "\u001b[1m> Entering new SimpleSequentialChain chain...\u001b[0m\n",
      "\u001b[36;1m\u001b[1;3m\n",
      "\n",
      "\"Revolution Motors\"\u001b[0m\n",
      "\u001b[33;1m\u001b[1;3m\n",
      "\n",
      "\"Driving innovation, one mile at a time.\"\u001b[0m\n",
      "\n",
      "\u001b[1m> Finished chain.\u001b[0m\n"
     ]
    }
   ],
   "source": [
    "catchphrase=overall_chain.run(\"car\")"
   ]
  },
  {
   "cell_type": "code",
   "execution_count": 17,
   "id": "c61fa269",
   "metadata": {},
   "outputs": [
    {
     "name": "stdout",
     "output_type": "stream",
     "text": [
      "\n",
      "\n",
      "\"Driving innovation, one mile at a time.\"\n"
     ]
    }
   ],
   "source": [
    "print(catchphrase)"
   ]
  },
  {
   "cell_type": "code",
   "execution_count": null,
   "id": "f6738918",
   "metadata": {},
   "outputs": [],
   "source": [
    "    x"
   ]
  }
 ],
 "metadata": {
  "kernelspec": {
   "display_name": "Python 3",
   "language": "python",
   "name": "python3"
  },
  "language_info": {
   "codemirror_mode": {
    "name": "ipython",
    "version": 3
   },
   "file_extension": ".py",
   "mimetype": "text/x-python",
   "name": "python",
   "nbconvert_exporter": "python",
   "pygments_lexer": "ipython3",
   "version": "3.8.8"
  }
 },
 "nbformat": 4,
 "nbformat_minor": 5
}
